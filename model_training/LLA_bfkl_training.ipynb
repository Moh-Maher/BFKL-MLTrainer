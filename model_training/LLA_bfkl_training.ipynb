{
 "cells": [
  {
   "cell_type": "code",
   "execution_count": 28,
   "metadata": {},
   "outputs": [],
   "source": [
    "import pandas as pd\n",
    "import numpy as np\n",
    "from sklearn.model_selection import train_test_split\n",
    "#from sklearn.linear_model import LinearRegression\n",
    "from sklearn.ensemble import RandomForestRegressor\n",
    "from sklearn.metrics import mean_squared_error, r2_score\n",
    "import joblib\n",
    "import matplotlib.pyplot as plt"
   ]
  },
  {
   "cell_type": "code",
   "execution_count": 29,
   "metadata": {},
   "outputs": [],
   "source": [
    "# Load the data from the CSV file\n",
    "data = pd.read_csv('../data/data_preparation/LLA_Kernel.csv')\n",
    "\n",
    "# Separate the features (X) from the target variable (y)\n",
    "X = data.drop('LLA_Kernel', axis=1)\n",
    "y = data['LLA_Kernel']\n",
    "\n",
    "# Split the data into training and testing sets (80% training, 20% testing)\n",
    "X_train, X_test, y_train, y_test = train_test_split(X, y, test_size=0.2, random_state=42)"
   ]
  },
  {
   "cell_type": "code",
   "execution_count": 30,
   "metadata": {},
   "outputs": [
    {
     "name": "stdout",
     "output_type": "stream",
     "text": [
      "Training in progress ...\n"
     ]
    },
    {
     "data": {
      "text/plain": [
       "RandomForestRegressor(random_state=42)"
      ]
     },
     "execution_count": 30,
     "metadata": {},
     "output_type": "execute_result"
    }
   ],
   "source": [
    "# Create and train the Random Forest model\n",
    "print(\"Training in progress ...\")\n",
    "rf_model = RandomForestRegressor(n_estimators=100, random_state=42)\n",
    "rf_model.fit(X_train, y_train)"
   ]
  },
  {
   "cell_type": "code",
   "execution_count": 31,
   "metadata": {},
   "outputs": [],
   "source": [
    "# Make predictions on the test data\n",
    "y_pred_rf = rf_model.predict(X_test)"
   ]
  },
  {
   "cell_type": "code",
   "execution_count": 32,
   "metadata": {},
   "outputs": [],
   "source": [
    "# Evaluate the Random Forest model\n",
    "mse_rf = mean_squared_error(y_test, y_pred_rf)\n",
    "r2_rf = r2_score(y_test, y_pred_rf)"
   ]
  },
  {
   "cell_type": "code",
   "execution_count": 36,
   "metadata": {},
   "outputs": [
    {
     "name": "stdout",
     "output_type": "stream",
     "text": [
      "Random Forest - Mean Squared Error: 1.221151804869329\n",
      "Random Forest - R-squared: 0.7346091617156698\n"
     ]
    }
   ],
   "source": [
    "print(\"Random Forest - Mean Squared Error:\", mse_rf)\n",
    "print(\"Random Forest - R-squared:\", r2_rf)"
   ]
  },
  {
   "cell_type": "code",
   "execution_count": 37,
   "metadata": {},
   "outputs": [
    {
     "data": {
      "text/plain": [
       "['../model_training/LLA_trained_model.joblib']"
      ]
     },
     "execution_count": 37,
     "metadata": {},
     "output_type": "execute_result"
    }
   ],
   "source": [
    "# Save the trained model to a file\n",
    "joblib.dump(rf_model,'../model_training/LLA_trained_model.joblib')"
   ]
  },
  {
   "cell_type": "code",
   "execution_count": 38,
   "metadata": {},
   "outputs": [],
   "source": [
    "# Load data from the .dat file\n",
    "data = []\n",
    "with open('../data/output_predictions/LLA_output.dat', 'r') as file:\n",
    "    for line in file:\n",
    "        values = line.split()  # Assuming data is space-separated\n",
    "        data.append([float(value) for value in values])\n",
    "\n",
    "# Separate the data into x and y values (adjust accordingly)\n",
    "x = [row[0] for row in data]\n",
    "y = [row[1] for row in data]\n",
    "# Define the desired x and y-axis ranges\n",
    "x_min = -10  # Replace with your desired minimum x-value\n",
    "x_max = 10  # Replace with your desired maximum x-value\n",
    "y_min = 0  # Replace with your desired minimum y-value\n",
    "y_max = 8  # Replace with your desired maximum y-value\n"
   ]
  },
  {
   "cell_type": "code",
   "execution_count": 39,
   "metadata": {},
   "outputs": [
    {
     "data": {
      "image/png": "[encoded data removed]",
      "text/plain": [
       "<Figure size 720x432 with 1 Axes>"
      ]
     },
     "metadata": {
      "needs_background": "light"
     },
     "output_type": "display_data"
    }
   ],
   "source": [
    "# Create a plot\n",
    "plt.figure(figsize=(10, 6))\n",
    "plt.plot(x, y, label='Model prediction', marker='o', linestyle='-')\n",
    "\n",
    "# Add labels and title\n",
    "plt.xlabel('$\\\\nu$')\n",
    "plt.ylabel('$\\\\omega(n=0,\\\\nu)$')\n",
    "plt.title('LLO BFKL kernel Plot at scale $\\\\mu = 30$GeV')\n",
    "\n",
    "# Add a legend (if needed)\n",
    "plt.legend()\n",
    "\n",
    "# Set x and y-axis ranges\n",
    "plt.xlim(x_min, x_max)\n",
    "plt.ylim(y_min, y_max)\n",
    "# Show the plot\n",
    "plt.grid(True)\n",
    "plt.show()"
   ]
  },
  {
   "cell_type": "code",
   "execution_count": null,
   "metadata": {},
   "outputs": [],
   "source": []
  }
 ],
 "metadata": {
  "kernelspec": {
   "display_name": "Python 3",
   "language": "python",
   "name": "python3"
  },
  "language_info": {
   "codemirror_mode": {
    "name": "ipython",
    "version": 3
   },
   "file_extension": ".py",
   "mimetype": "text/x-python",
   "name": "python",
   "nbconvert_exporter": "python",
   "pygments_lexer": "ipython3",
   "version": "3.8.5"
  }
 },
 "nbformat": 4,
 "nbformat_minor": 4
}
